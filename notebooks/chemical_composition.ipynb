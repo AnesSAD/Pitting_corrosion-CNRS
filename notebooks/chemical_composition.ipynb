{
 "cells": [
  {
   "cell_type": "code",
   "execution_count": 4,
   "id": "a7608c63-ae11-4e40-ad8c-aa967343fb6f",
   "metadata": {},
   "outputs": [],
   "source": [
    "import numpy as np\n",
    "import cv2 as cv\n",
    "import matplotlib.pyplot as plt\n",
    "import os\n",
    "%matplotlib tk"
   ]
  },
  {
   "cell_type": "code",
   "execution_count": 5,
   "id": "739df0b1-fb72-429b-ac9b-b7bee909d6b2",
   "metadata": {},
   "outputs": [],
   "source": [
    "images_file = '/home/ters-user/Documents/manip6_z_position3_after_good/exported_images/'\n",
    "images_name = sorted(os.listdir(images_file))\n",
    "images = [cv.imread(images_file + img, cv.IMREAD_GRAYSCALE) for img in images_name]\n",
    "roi = [img[3038-112*2:3038+112*2,2559-112*2:2559+112*2] for img in images] # roi conrresponding to the object of intrest "
   ]
  },
  {
   "cell_type": "code",
   "execution_count": 6,
   "id": "5533b520-00b2-40e8-ba8d-9d8621a5cc08",
   "metadata": {},
   "outputs": [
    {
     "data": {
      "text/plain": [
       "<matplotlib.image.AxesImage at 0x76de8af28740>"
      ]
     },
     "execution_count": 6,
     "metadata": {},
     "output_type": "execute_result"
    }
   ],
   "source": [
    "plt.imshow(roi[0])"
   ]
  },
  {
   "cell_type": "code",
   "execution_count": null,
   "id": "bfd66e32-a91f-41b7-8c2e-9951088d2d07",
   "metadata": {},
   "outputs": [],
   "source": [
    "for idx, img in enumerate(roi):\n",
    "    cv.imwrite('/home/ters-user/Documents/manip6_z_position3_after_good/to_segment/particle4/' + f\"slice{idx:02}.png\",img)"
   ]
  },
  {
   "cell_type": "code",
   "execution_count": 11,
   "id": "2ca3fc3b-88cd-4bec-9233-336d19d6b374",
   "metadata": {},
   "outputs": [
    {
     "data": {
      "text/plain": [
       "'/home/ters-user/Documents/GIT/Pitting_corrosion-CNRS/notebooks'"
      ]
     },
     "execution_count": 11,
     "metadata": {},
     "output_type": "execute_result"
    }
   ],
   "source": [
    "os.getcwd()"
   ]
  },
  {
   "cell_type": "code",
   "execution_count": null,
   "id": "56ee68a6-b6a3-45ee-98c2-519d5295eb0c",
   "metadata": {},
   "outputs": [],
   "source": []
  },
  {
   "cell_type": "code",
   "execution_count": null,
   "id": "fe2dbed7-36bf-4b11-b535-9829a835b01e",
   "metadata": {},
   "outputs": [],
   "source": []
  },
  {
   "cell_type": "code",
   "execution_count": null,
   "id": "4ee9168a-9b78-427a-9bc5-cf04e0a3f047",
   "metadata": {},
   "outputs": [],
   "source": []
  },
  {
   "cell_type": "code",
   "execution_count": null,
   "id": "348f80a4-8b50-4659-8be2-d246eba4fed3",
   "metadata": {},
   "outputs": [],
   "source": []
  },
  {
   "cell_type": "code",
   "execution_count": null,
   "id": "e91418ea-5d27-4ebd-bc43-09f9c9127dda",
   "metadata": {},
   "outputs": [],
   "source": []
  },
  {
   "cell_type": "code",
   "execution_count": null,
   "id": "262deee1-3d7d-4f93-aaa9-66e99698dbe5",
   "metadata": {},
   "outputs": [],
   "source": []
  },
  {
   "cell_type": "code",
   "execution_count": null,
   "id": "0012419c-0871-4574-b072-0f88dffe7e4f",
   "metadata": {},
   "outputs": [],
   "source": []
  },
  {
   "cell_type": "code",
   "execution_count": null,
   "id": "4f825682-0528-48b4-8545-9a8efe8d5efa",
   "metadata": {},
   "outputs": [],
   "source": []
  }
 ],
 "metadata": {
  "kernelspec": {
   "display_name": "Python 3 (ipykernel)",
   "language": "python",
   "name": "python3"
  },
  "language_info": {
   "codemirror_mode": {
    "name": "ipython",
    "version": 3
   },
   "file_extension": ".py",
   "mimetype": "text/x-python",
   "name": "python",
   "nbconvert_exporter": "python",
   "pygments_lexer": "ipython3",
   "version": "3.12.5"
  }
 },
 "nbformat": 4,
 "nbformat_minor": 5
}
